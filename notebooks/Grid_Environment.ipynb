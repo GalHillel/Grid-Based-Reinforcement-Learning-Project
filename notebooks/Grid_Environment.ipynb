{
 "cells": [
  {
   "cell_type": "code",
   "execution_count": null,
   "metadata": {},
   "outputs": [],
   "source": [
    "{\n",
    "    \"cells\": [\n",
    "        {\n",
    "            \"cell_type\": \"markdown\",\n",
    "            \"metadata\": {},\n",
    "            \"source\": [\"# Grid Environment Setup and Exploration\"],\n",
    "        },\n",
    "        {\n",
    "            \"cell_type\": \"code\",\n",
    "            \"execution_count\": 1,\n",
    "            \"metadata\": {},\n",
    "            \"outputs\": [],\n",
    "            \"source\": [\n",
    "                \"import json\\n\",\n",
    "                \"import matplotlib.pyplot as plt\\n\",\n",
    "                \"\\n\",\n",
    "                \"with open('../data/grid.json', 'r') as f:\\n\",\n",
    "                \"    grid = json.load(f)\\n\",\n",
    "                \"\\n\",\n",
    "                \"plt.imshow(grid, cmap='viridis')\\n\",\n",
    "                \"plt.colorbar()\\n\",\n",
    "                \"plt.title('Grid Environment')\\n\",\n",
    "                \"plt.show()\",\n",
    "            ],\n",
    "        },\n",
    "    ],\n",
    "    \"metadata\": {},\n",
    "    \"nbformat\": 4,\n",
    "    \"nbformat_minor\": 2,\n",
    "}"
   ]
  }
 ],
 "metadata": {
  "language_info": {
   "name": "python"
  }
 },
 "nbformat": 4,
 "nbformat_minor": 2
}
