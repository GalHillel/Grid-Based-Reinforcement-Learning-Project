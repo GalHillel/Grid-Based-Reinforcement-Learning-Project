{
 "cells": [
  {
   "cell_type": "code",
   "execution_count": null,
   "metadata": {},
   "outputs": [],
   "source": [
    "{\n",
    "    \"cells\": [\n",
    "        {\n",
    "            \"cell_type\": \"markdown\",\n",
    "            \"metadata\": {},\n",
    "            \"source\": [\"# Model-Based Reinforcement Learning Algorithm\"],\n",
    "        },\n",
    "        {\n",
    "            \"cell_type\": \"code\",\n",
    "            \"execution_count\": 1,\n",
    "            \"metadata\": {},\n",
    "            \"outputs\": [],\n",
    "            \"source\": [\n",
    "                \"import numpy as np\\n\",\n",
    "                \"import matplotlib.pyplot as plt\\n\",\n",
    "                \"\\n\",\n",
    "                \"value_table = np.load('../data/results/mb_value_table.npy')\\n\",\n",
    "                \"policy = np.load('../data/results/mb_policy.npy')\\n\",\n",
    "                \"\\n\",\n",
    "                \"plt.imshow(value_table, cmap='viridis')\\n\",\n",
    "                \"plt.colorbar()\\n\",\n",
    "                \"plt.title('Model-Based RL Value Table')\\n\",\n",
    "                \"plt.show()\",\n",
    "            ],\n",
    "        },\n",
    "    ],\n",
    "    \"metadata\": {},\n",
    "    \"nbformat\": 4,\n",
    "    \"nbformat_minor\": 2,\n",
    "}"
   ]
  }
 ],
 "metadata": {
  "language_info": {
   "name": "python"
  }
 },
 "nbformat": 4,
 "nbformat_minor": 2
}
